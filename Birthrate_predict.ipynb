{
  "nbformat": 4,
  "nbformat_minor": 0,
  "metadata": {
    "colab": {
      "provenance": []
    },
    "kernelspec": {
      "name": "python3",
      "display_name": "Python 3"
    },
    "language_info": {
      "name": "python"
    }
  },
  "cells": [
    {
      "cell_type": "code",
      "execution_count": 1,
      "metadata": {
        "colab": {
          "base_uri": "https://localhost:8080/"
        },
        "id": "033gXQjBkod-",
        "outputId": "1abb299c-0f80-4dce-fe82-5f2893d026df"
      },
      "outputs": [
        {
          "output_type": "stream",
          "name": "stdout",
          "text": [
            "Reading package lists... Done\n",
            "Building dependency tree... Done\n",
            "Reading state information... Done\n",
            "The following NEW packages will be installed:\n",
            "  fonts-nanum\n",
            "0 upgraded, 1 newly installed, 0 to remove and 34 not upgraded.\n",
            "Need to get 10.3 MB of archives.\n",
            "After this operation, 34.1 MB of additional disk space will be used.\n",
            "Get:1 http://archive.ubuntu.com/ubuntu jammy/universe amd64 fonts-nanum all 20200506-1 [10.3 MB]\n",
            "Fetched 10.3 MB in 2s (6,872 kB/s)\n",
            "debconf: unable to initialize frontend: Dialog\n",
            "debconf: (No usable dialog-like program is installed, so the dialog based frontend cannot be used. at /usr/share/perl5/Debconf/FrontEnd/Dialog.pm line 78, <> line 1.)\n",
            "debconf: falling back to frontend: Readline\n",
            "debconf: unable to initialize frontend: Readline\n",
            "debconf: (This frontend requires a controlling tty.)\n",
            "debconf: falling back to frontend: Teletype\n",
            "dpkg-preconfigure: unable to re-open stdin: \n",
            "Selecting previously unselected package fonts-nanum.\n",
            "(Reading database ... 126102 files and directories currently installed.)\n",
            "Preparing to unpack .../fonts-nanum_20200506-1_all.deb ...\n",
            "Unpacking fonts-nanum (20200506-1) ...\n",
            "Setting up fonts-nanum (20200506-1) ...\n",
            "Processing triggers for fontconfig (2.13.1-4.2ubuntu5) ...\n",
            "/usr/share/fonts: caching, new cache contents: 0 fonts, 1 dirs\n",
            "/usr/share/fonts/truetype: caching, new cache contents: 0 fonts, 3 dirs\n",
            "/usr/share/fonts/truetype/humor-sans: caching, new cache contents: 1 fonts, 0 dirs\n",
            "/usr/share/fonts/truetype/liberation: caching, new cache contents: 16 fonts, 0 dirs\n",
            "/usr/share/fonts/truetype/nanum: caching, new cache contents: 12 fonts, 0 dirs\n",
            "/usr/local/share/fonts: caching, new cache contents: 0 fonts, 0 dirs\n",
            "/root/.local/share/fonts: skipping, no such directory\n",
            "/root/.fonts: skipping, no such directory\n",
            "/usr/share/fonts/truetype: skipping, looped directory detected\n",
            "/usr/share/fonts/truetype/humor-sans: skipping, looped directory detected\n",
            "/usr/share/fonts/truetype/liberation: skipping, looped directory detected\n",
            "/usr/share/fonts/truetype/nanum: skipping, looped directory detected\n",
            "/var/cache/fontconfig: cleaning cache directory\n",
            "/root/.cache/fontconfig: not cleaning non-existent cache directory\n",
            "/root/.fontconfig: not cleaning non-existent cache directory\n",
            "fc-cache: succeeded\n"
          ]
        }
      ],
      "source": [
        "!sudo apt-get install -y fonts-nanum\n",
        "!sudo fc-cache -fv\n",
        "!rm ~/.cache/matplotlib -rf"
      ]
    },
    {
      "cell_type": "code",
      "source": [
        "import matplotlib.pyplot as plt\n",
        "\n",
        "plt.rc('font', family='NanumBarunGothic')"
      ],
      "metadata": {
        "id": "aYvoMd-bkzJ4"
      },
      "execution_count": 1,
      "outputs": []
    },
    {
      "cell_type": "code",
      "source": [
        "# ▶ 필요한 패키지 import\n",
        "import io\n",
        "import pandas as pd\n",
        "from statsmodels.tsa.holtwinters import Holt\n",
        "from statsmodels.tsa.arima.model import ARIMA\n",
        "\n",
        "# --- 1. 데이터 로드 및 전처리 ---\n",
        "excel_path = '/content/시군구_합계출산율__모의_연령별_출산율_20250517112929_분석(전년_대비_증감,증감률).xlsx'\n",
        "\n",
        "# ▶ 엑셀 데이터 불러오기 (멀티헤더 처리)\n",
        "df_raw = pd.read_excel(excel_path, sheet_name='데이터', header=[0, 1])\n",
        "df_raw.columns = df_raw.columns.map(lambda x: x[0] if '시군구별' in x else x)\n",
        "\n",
        "# ▶ 합계출산율 원데이터 컬럼 추출 (2015~2023)\n",
        "target_cols = [\n",
        "    col for col in df_raw.columns\n",
        "    if isinstance(col, tuple)\n",
        "    and col[1] == '합계출산율'\n",
        "    and col[0].isdigit()\n",
        "    and 2015 <= int(col[0]) <= 2023\n",
        "]\n",
        "\n",
        "# ▶ 대상 지역\n",
        "regions = [\n",
        "    \"전국\",\n",
        "    \"서울특별시\",\"부산광역시\",\"대구광역시\",\"인천광역시\",\n",
        "    \"광주광역시\",\"대전광역시\",\"울산광역시\",\"세종특별자치시\",\n",
        "    \"경기도\",\"강원특별자치도\",\"충청북도\",\"충청남도\",\n",
        "    \"전라북도\",\"전라남도\",\"경상북도\",\"경상남도\",\"제주특별자치도\"\n",
        "]\n",
        "\n",
        "# ▶ 2015~2024년 시계열 DataFrame 생성\n",
        "df_all = pd.DataFrame(index=range(2015, 2025), columns=regions, dtype=float)\n",
        "\n",
        "# ▶ 2015~2023 실제 데이터 채우기\n",
        "for region in regions:\n",
        "    row = df_raw[df_raw['시군구별'] == region][target_cols]\n",
        "    row.columns = [int(c[0]) for c in target_cols]\n",
        "    ts = row.T.iloc[:, 0]\n",
        "    df_all.loc[ts.index, region] = pd.to_numeric(ts.values, errors='coerce')\n",
        "\n",
        "# ▶ 2024년 예측 (각 지역별 Holt vs ARIMA)\n",
        "for region in regions:\n",
        "    train = df_all.loc[2015:2022, region]\n",
        "    actual23 = df_all.loc[2023, region]\n",
        "\n",
        "    # Holt 선형 추세\n",
        "    holt = Holt(train).fit()\n",
        "    pred23_h = holt.forecast(1).iloc[0]\n",
        "    pred24_h = holt.forecast(2).iloc[1]\n",
        "\n",
        "    # ARIMA(1,1,0)\n",
        "    arima = ARIMA(train, order=(1,1,0)).fit()\n",
        "    pred23_a = arima.forecast(1).iloc[0]\n",
        "    pred24_a = arima.forecast(2).iloc[1]\n",
        "\n",
        "    # 2023 예측 정확도 비교 → 더 나은 모델로 2024 예측값 선택\n",
        "    err_h = abs(pred23_h - actual23)\n",
        "    err_a = abs(pred23_a - actual23)\n",
        "\n",
        "    df_all.loc[2024, region] = pred24_h if err_h < err_a else pred24_a\n",
        "\n",
        "# ▶ 결과 저장 및 출력\n",
        "df_all.index.name = '연도'\n",
        "df_all.to_csv('시도별_합계출산율_2015_2024_예측포함.csv', encoding='utf-8-sig')\n",
        "print(df_all)\n"
      ],
      "metadata": {
        "colab": {
          "base_uri": "https://localhost:8080/"
        },
        "id": "WF7d1aXRm6KN",
        "outputId": "967c33fd-def7-4795-c7c5-645d71b2e240"
      },
      "execution_count": 3,
      "outputs": [
        {
          "output_type": "stream",
          "name": "stderr",
          "text": [
            "/usr/local/lib/python3.11/dist-packages/openpyxl/styles/stylesheet.py:237: UserWarning: Workbook contains no default style, apply openpyxl's default\n",
            "  warn(\"Workbook contains no default style, apply openpyxl's default\")\n",
            "/usr/local/lib/python3.11/dist-packages/statsmodels/base/model.py:607: ConvergenceWarning: Maximum Likelihood optimization failed to converge. Check mle_retvals\n",
            "  warnings.warn(\"Maximum Likelihood optimization failed to \"\n",
            "/usr/local/lib/python3.11/dist-packages/statsmodels/base/model.py:607: ConvergenceWarning: Maximum Likelihood optimization failed to converge. Check mle_retvals\n",
            "  warnings.warn(\"Maximum Likelihood optimization failed to \"\n"
          ]
        },
        {
          "output_type": "stream",
          "name": "stdout",
          "text": [
            "         전국     서울특별시  부산광역시     대구광역시     인천광역시     광주광역시     대전광역시  울산광역시  \\\n",
            "연도                                                                            \n",
            "2015  1.239  1.001000  1.139  1.216000  1.216000  1.207000  1.277000  1.486   \n",
            "2016  1.172  0.940000  1.095  1.186000  1.144000  1.168000  1.192000  1.418   \n",
            "2017  1.052  0.836000  0.976  1.067000  1.007000  1.053000  1.075000  1.261   \n",
            "2018  0.977  0.761000  0.899  0.987000  1.006000  0.972000  0.952000  1.131   \n",
            "2019  0.918  0.717000  0.827  0.932000  0.940000  0.913000  0.883000  1.084   \n",
            "2020  0.837  0.642000  0.747  0.807000  0.829000  0.811000  0.805000  0.984   \n",
            "2021  0.808  0.626000  0.728  0.785000  0.778000  0.896000  0.810000  0.940   \n",
            "2022  0.778  0.593000  0.723  0.757000  0.747000  0.844000  0.842000  0.848   \n",
            "2023  0.721  0.552000  0.664  0.702000  0.694000  0.706000  0.787000  0.814   \n",
            "2024  0.644  0.545207  0.635  0.655839  0.602467  0.764968  0.894801  0.712   \n",
            "\n",
            "       세종특별자치시       경기도   강원특별자치도   충청북도      충청남도      전라북도      전라남도  \\\n",
            "연도                                                                        \n",
            "2015  1.893000  1.272000  1.311000  1.414  1.480000  1.352000  1.549000   \n",
            "2016  1.821000  1.194000  1.237000  1.358  1.395000  1.251000  1.466000   \n",
            "2017  1.668000  1.069000  1.123000  1.235  1.276000  1.151000  1.325000   \n",
            "2018  1.566000  1.002000  1.067000  1.172  1.186000  1.044000  1.240000   \n",
            "2019  1.472000  0.943000  1.082000  1.050  1.112000  0.971000  1.234000   \n",
            "2020  1.277000  0.878000  1.036000  0.983  1.029000  0.909000  1.145000   \n",
            "2021  1.277000  0.853000  0.979000  0.949  0.963000  0.850000  1.017000   \n",
            "2022  1.121000  0.839000  0.968000  0.871  0.909000  0.817000  0.969000   \n",
            "2023  0.971000  0.766000  0.893000  0.886  0.842000  0.780000  0.972000   \n",
            "2024  0.982627  0.728431  0.885374  0.759  0.808339  0.753762  0.910275   \n",
            "\n",
            "       경상북도      경상남도   제주특별자치도  \n",
            "연도                               \n",
            "2015  1.464  1.437000  1.477000  \n",
            "2016  1.396  1.358000  1.432000  \n",
            "2017  1.256  1.227000  1.305000  \n",
            "2018  1.167  1.122000  1.220000  \n",
            "2019  1.089  1.046000  1.145000  \n",
            "2020  1.003  0.945000  1.021000  \n",
            "2021  0.966  0.903000  0.951000  \n",
            "2022  0.930  0.838000  0.919000  \n",
            "2023  0.860  0.799000  0.827000  \n",
            "2024  0.794  0.728716  0.785513  \n"
          ]
        }
      ]
    },
    {
      "cell_type": "code",
      "source": [
        "import pandas as pd\n",
        "from statsmodels.tsa.holtwinters import Holt\n",
        "from statsmodels.tsa.arima.model import ARIMA\n",
        "\n",
        "# 1. 엑셀 파일 로드\n",
        "excel_path = '/content/시군구_합계출산율__모의_연령별_출산율_20250517112929_분석(전년_대비_증감,증감률).xlsx'  # Colab이면 업로드된 파일명\n",
        "df_raw = pd.read_excel(excel_path, sheet_name='데이터', header=[0, 1])\n",
        "df_raw.columns = df_raw.columns.map(lambda x: x[0] if '시군구별' in x else x)\n",
        "\n",
        "# 2. 합계출산율 원데이터 컬럼 추출\n",
        "target_cols = [\n",
        "    col for col in df_raw.columns\n",
        "    if isinstance(col, tuple)\n",
        "    and col[1] == '합계출산율'\n",
        "    and col[0].isdigit()\n",
        "    and 2015 <= int(col[0]) <= 2023\n",
        "]\n",
        "\n",
        "# 3. 지역 목록\n",
        "regions = [\n",
        "    \"전국\", \"서울특별시\", \"부산광역시\", \"대구광역시\", \"인천광역시\",\n",
        "    \"광주광역시\", \"대전광역시\", \"울산광역시\", \"세종특별자치시\",\n",
        "    \"경기도\", \"강원특별자치도\", \"충청북도\", \"충청남도\",\n",
        "    \"전라북도\", \"전라남도\", \"경상북도\", \"경상남도\", \"제주특별자치도\"\n",
        "]\n",
        "\n",
        "# 4. 전체 시계열 데이터프레임\n",
        "df_all = pd.DataFrame(index=range(2015, 2025), columns=regions, dtype=float)\n",
        "summary = []\n",
        "\n",
        "# 5. 데이터 구성 (2015~2023)\n",
        "for region in regions:\n",
        "    row = df_raw[df_raw['시군구별'] == region][target_cols]\n",
        "    row.columns = [int(c[0]) for c in target_cols]\n",
        "    ts = row.T.iloc[:, 0]\n",
        "    df_all.loc[ts.index, region] = pd.to_numeric(ts.values, errors='coerce')\n",
        "\n",
        "# 6. 모델 성능 평가 및 2024 예측\n",
        "for region in regions:\n",
        "    train = df_all.loc[2015:2022, region]\n",
        "    actual_2023 = df_all.loc[2023, region]\n",
        "\n",
        "    # Holt\n",
        "    holt_model = Holt(train).fit()\n",
        "    pred_2023_h = holt_model.forecast(1).iloc[0]\n",
        "    pred_2024_h = holt_model.forecast(2).iloc[1]\n",
        "\n",
        "    # ARIMA\n",
        "    arima_model = ARIMA(train, order=(1, 1, 0)).fit()\n",
        "    pred_2023_a = arima_model.forecast(1).iloc[0]\n",
        "    pred_2024_a = arima_model.forecast(2).iloc[1]\n",
        "\n",
        "    # RMSE\n",
        "    rmse_h = abs(pred_2023_h - actual_2023)\n",
        "    rmse_a = abs(pred_2023_a - actual_2023)\n",
        "\n",
        "    best_model = 'Holt' if rmse_h < rmse_a else 'ARIMA'\n",
        "    best_pred = pred_2024_h if best_model == 'Holt' else pred_2024_a\n",
        "    df_all.loc[2024, region] = best_pred\n",
        "\n",
        "    summary.append({\n",
        "        '지역': region,\n",
        "        'Holt RMSE': round(rmse_h, 4),\n",
        "        'ARIMA RMSE': round(rmse_a, 4),\n",
        "        '선택된 모델': best_model\n",
        "    })\n",
        "\n",
        "# 7. 결과 출력\n",
        "df_summary = pd.DataFrame(summary)\n",
        "print(df_summary)\n",
        "\n"
      ],
      "metadata": {
        "colab": {
          "base_uri": "https://localhost:8080/"
        },
        "id": "2rQE9nw1pXpf",
        "outputId": "b589e1fa-2e69-48a0-fb7a-55414aedc835"
      },
      "execution_count": 5,
      "outputs": [
        {
          "output_type": "stream",
          "name": "stderr",
          "text": [
            "/usr/local/lib/python3.11/dist-packages/openpyxl/styles/stylesheet.py:237: UserWarning: Workbook contains no default style, apply openpyxl's default\n",
            "  warn(\"Workbook contains no default style, apply openpyxl's default\")\n",
            "/usr/local/lib/python3.11/dist-packages/statsmodels/base/model.py:607: ConvergenceWarning: Maximum Likelihood optimization failed to converge. Check mle_retvals\n",
            "  warnings.warn(\"Maximum Likelihood optimization failed to \"\n",
            "/usr/local/lib/python3.11/dist-packages/statsmodels/base/model.py:607: ConvergenceWarning: Maximum Likelihood optimization failed to converge. Check mle_retvals\n",
            "  warnings.warn(\"Maximum Likelihood optimization failed to \"\n"
          ]
        },
        {
          "output_type": "stream",
          "name": "stdout",
          "text": [
            "         지역  Holt RMSE  ARIMA RMSE 선택된 모델\n",
            "0        전국     0.0100      0.0320   Holt\n",
            "1     서울특별시     0.0200      0.0145  ARIMA\n",
            "2     부산광역시     0.0150      0.0552   Holt\n",
            "3     대구광역시     0.0044      0.0377   Holt\n",
            "4     인천광역시     0.0287      0.0356   Holt\n",
            "5     광주광역시     0.0980      0.1253   Holt\n",
            "6     대전광역시     0.0814      0.0817   Holt\n",
            "7     울산광역시     0.0340      0.0378   Holt\n",
            "8   세종특별자치시     0.0622      0.0617  ARIMA\n",
            "9       경기도     0.0177      0.0610   Holt\n",
            "10  강원특별자치도     0.0249      0.0678   Holt\n",
            "11     충청북도     0.0710      0.0752   Holt\n",
            "12     충청남도     0.0159      0.0155  ARIMA\n",
            "13     전라북도     0.0290      0.0049  ARIMA\n",
            "14     전라남도     0.0785      0.0373  ARIMA\n",
            "15     경상북도     0.0020      0.0397   Holt\n",
            "16     경상남도     0.0400      0.0188  ARIMA\n",
            "17  제주특별자치도     0.0253      0.0669   Holt\n"
          ]
        }
      ]
    },
    {
      "cell_type": "code",
      "source": [],
      "metadata": {
        "id": "6re8qzwurUx-"
      },
      "execution_count": null,
      "outputs": []
    }
  ]
}