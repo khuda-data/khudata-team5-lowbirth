import pandas as pd
import matplotlib.pyplot as plt
import seaborn as sns
import statsmodels.api as sm
import matplotlib.font_manager as fm
import os

# ------------------------------------------
# 1. 한글 폰트 설정 (Windows: 맑은 고딕 자동 적용)
# ------------------------------------------
font_paths = [f.fname for f in fm.fontManager.ttflist if 'Malgun' in f.name]
if font_paths:
    plt.rcParams['font.family'] = 'Malgun Gothic'
else:
    # 대체 폰트 설정
    fallback_fonts = [f.name for f in fm.fontManager.ttflist if 'Gothic' in f.name]
    fallback = fallback_fonts[0] if fallback_fonts else 'Arial'
    plt.rcParams['font.family'] = fallback
plt.rcParams['axes.unicode_minus'] = False

# ------------------------------------------
# 2. 파일 불러오기
# ------------------------------------------
birth_rate_df = pd.read_csv(r"C:\Users\ASUS\Desktop\데이터톤\시도별_출산율.csv", encoding='utf-8')
employment_rate_df = pd.read_csv(r"C:\Users\ASUS\Desktop\데이터톤\도별_고용률.csv", encoding='cp949')

# ------------------------------------------
# 3. 데이터 전처리
# ------------------------------------------
birth_long = birth_rate_df.melt(id_vars='연도', var_name='시도', value_name='출산율')
employment_long = employment_rate_df.melt(id_vars='시도별', var_name='연도', value_name='고용률')
employment_long = employment_long.rename(columns={'시도별': '시도'})
employment_long['연도'] = employment_long['연도'].astype(int)

merged_df = pd.merge(birth_long, employment_long, on=['연도', '시도'])
merged_df['고용률'] = pd.to_numeric(merged_df['고용률'], errors='coerce')
clean_df = merged_df.dropna(subset=['출산율', '고용률'])

# ------------------------------------------
# 4. 회귀 분석 (OLS)
# ------------------------------------------
X = sm.add_constant(clean_df['고용률'])
y = clean_df['출산율']
model = sm.OLS(y, X).fit()

print(model.summary())

# ------------------------------------------
# 5. 시각화
# ------------------------------------------
plt.figure(figsize=(20, 30))
unique_regions = sorted(clean_df['시도'].unique())
n_rows, n_cols = 5, 4

for i, region in enumerate(unique_regions):
    plt.subplot(n_rows, n_cols, i + 1)
    region_data = clean_df[clean_df['시도'] == region]
    sns.regplot(data=region_data, x='고용률', y='출산율',
                scatter_kws={'s': 30}, line_kws={'color': 'red'})
    plt.title(region, fontsize=12)
    plt.xlabel("고용률 (%)", fontsize=10)
    plt.ylabel("출산율", fontsize=10)

# 그래프 간격 넓게 조정
plt.subplots_adjust(left=0.06, right=0.94, top=0.93, bottom=0.05,
                    hspace=0.7, wspace=0.5)

plt.suptitle('시도별 고용률과 출산율의 관계 (단순 선형 회귀)', fontsize=12)
plt.show()
