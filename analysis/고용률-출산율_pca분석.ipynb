import pandas as pd
import matplotlib.pyplot as plt
import seaborn as sns
from sklearn.decomposition import PCA
from sklearn.preprocessing import StandardScaler

# 한글 폰트 설정 (Windows용)
plt.rcParams['font.family'] = 'Malgun Gothic'
plt.rcParams['axes.unicode_minus'] = False

# 파일 경로 설정
employment_path = r"C:\Users\ASUS\Desktop\데이터톤\도별_고용률.csv"
birthrate_path = r"C:\Users\ASUS\Desktop\데이터톤\시도별_출산율.csv"

# 데이터 불러오기
employment_df = pd.read_csv(employment_path, encoding='cp949')
birthrate_df = pd.read_csv(birthrate_path, encoding='utf-8-sig')

# 출산율 데이터 전처리
birthrate_transposed = birthrate_df.set_index('연도').transpose().reset_index()
birthrate_transposed = birthrate_transposed.rename(columns={'index': '시도별'})

# long-format 전환
employment_melted = employment_df.melt(id_vars='시도별', var_name='연도', value_name='고용률')
birthrate_melted = birthrate_transposed.melt(id_vars='시도별', var_name='연도', value_name='출산율')

# 연도 형식 통일 및 병합
employment_melted['연도'] = employment_melted['연도'].astype(str)
birthrate_melted['연도'] = birthrate_melted['연도'].astype(str)
merged_df = pd.merge(employment_melted, birthrate_melted, on=['시도별', '연도']).dropna()

# wide-format 구성
pivot_birth = merged_df.pivot(index='시도별', columns='연도', values='출산율')
pivot_employ = merged_df.pivot(index='시도별', columns='연도', values='고용률')
common_years = pivot_birth.columns.intersection(pivot_employ.columns)
pivot_birth = pivot_birth[common_years]
pivot_employ = pivot_employ[common_years]
combined_data = pd.concat([pivot_birth, pivot_employ], axis=1, keys=['출산율', '고용률'])

# 숫자형 변환 및 결측치 제거
combined_data_cleaned = combined_data.apply(pd.to_numeric, errors='coerce').dropna()

# 표준화 및 PCA 수행
scaler = StandardScaler()
scaled_data = scaler.fit_transform(combined_data_cleaned)
pca = PCA(n_components=2)
pca_result = pca.fit_transform(scaled_data)
explained_var = pca.explained_variance_ratio_

# 결과 정리
pca_df = pd.DataFrame(pca_result, columns=['PC1', 'PC2'])
pca_df['시도별'] = combined_data_cleaned.index

# ===== [1] PCA 결과 시각화 =====
plt.figure(figsize=(10, 6))
sns.scatterplot(x='PC1', y='PC2', data=pca_df, hue='시도별', palette='tab10', legend=False)
for i in range(pca_df.shape[0]):
    plt.text(pca_df['PC1'][i] + 0.1, pca_df['PC2'][i], pca_df['시도별'][i], fontsize=11)
plt.title('고용률 + 출산율 PCA 분석 (시도별)')
plt.xlabel(f'고용률 (설명력: {explained_var[0]*100:.1f}%)')
plt.ylabel(f'출산율 (설명력: {explained_var[1]*100:.1f}%)')
plt.grid(True)
plt.tight_layout()
plt.show()

# ===== [2] 변수 기여도 분석 =====
# 변수 이름 재설정 (ex: 출산율_2015, 고용률_2015)
feature_names = [f"{cat}_{year}" for cat, year in combined_data_cleaned.columns]
loading_matrix = pd.DataFrame(pca.components_.T, index=feature_names, columns=['PC1', 'PC2'])
loading_matrix['변수종류'] = ['출산율' if '출산율' in name else '고용률' for name in loading_matrix.index]
summary = loading_matrix.groupby('변수종류')[['PC1', 'PC2']].mean()
